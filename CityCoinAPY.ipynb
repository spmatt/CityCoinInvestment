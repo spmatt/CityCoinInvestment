{
 "cells": [
  {
   "cell_type": "code",
   "execution_count": 1,
   "metadata": {},
   "outputs": [
    {
     "name": "stdout",
     "output_type": "stream",
     "text": [
      "cycle 1   STX per 100 NYCC = 1.093   Total STX/100NYCC = 1.093   Total Interest per 100 STX = 50.063 %\n",
      "cycle 2   STX per 100 NYCC = 0.533   Total STX/100NYCC = 1.626   Total Interest per 100 STX = 74.484 %\n",
      "cycle 3   STX per 100 NYCC = 0.353   Total STX/100NYCC = 1.979   Total Interest per 100 STX = 90.634 %\n",
      "cycle 4   STX per 100 NYCC = 0.263   Total STX/100NYCC = 2.242   Total Interest per 100 STX = 102.697 %\n",
      "cycle 5   STX per 100 NYCC = 0.216   Total STX/100NYCC = 2.459   Total Interest per 100 STX = 112.611 %\n",
      "cycle 6   STX per 100 NYCC = 0.2   Total STX/100NYCC = 2.659   Total Interest per 100 STX = 121.764 %\n",
      "cycle 7   STX per 100 NYCC = 0.186   Total STX/100NYCC = 2.844   Total Interest per 100 STX = 130.264 %\n",
      "cycle 8   STX per 100 NYCC = 0.173   Total STX/100NYCC = 3.017   Total Interest per 100 STX = 138.199 %\n",
      "cycle 9   STX per 100 NYCC = 0.162   Total STX/100NYCC = 3.18   Total Interest per 100 STX = 145.638 %\n",
      "cycle 10   STX per 100 NYCC = 0.153   Total STX/100NYCC = 3.333   Total Interest per 100 STX = 152.64 %\n",
      "cycle 11   STX per 100 NYCC = 0.144   Total STX/100NYCC = 3.477   Total Interest per 100 STX = 159.253 %\n",
      "cycle 12   STX per 100 NYCC = 0.137   Total STX/100NYCC = 3.614   Total Interest per 100 STX = 165.519 %\n",
      "cycle 13   STX per 100 NYCC = 0.13   Total STX/100NYCC = 3.744   Total Interest per 100 STX = 171.472 %\n",
      "cycle 14   STX per 100 NYCC = 0.124   Total STX/100NYCC = 3.868   Total Interest per 100 STX = 177.142 %\n",
      "cycle 15   STX per 100 NYCC = 0.118   Total STX/100NYCC = 3.986   Total Interest per 100 STX = 182.555 %\n",
      "cycle 16   STX per 100 NYCC = 0.113   Total STX/100NYCC = 4.099   Total Interest per 100 STX = 187.732 %\n",
      "cycle 17   STX per 100 NYCC = 0.108   Total STX/100NYCC = 4.207   Total Interest per 100 STX = 192.694 %\n",
      "cycle 18   STX per 100 NYCC = 0.104   Total STX/100NYCC = 4.311   Total Interest per 100 STX = 197.457 %\n",
      "cycle 19   STX per 100 NYCC = 0.1   Total STX/100NYCC = 4.411   Total Interest per 100 STX = 202.038 %\n",
      "cycle 20   STX per 100 NYCC = 0.096   Total STX/100NYCC = 4.508   Total Interest per 100 STX = 206.449 %\n",
      "cycle 21   STX per 100 NYCC = 0.093   Total STX/100NYCC = 4.6   Total Interest per 100 STX = 210.702 %\n",
      "cycle 22   STX per 100 NYCC = 0.09   Total STX/100NYCC = 4.69   Total Interest per 100 STX = 214.809 %\n",
      "cycle 23   STX per 100 NYCC = 0.087   Total STX/100NYCC = 4.777   Total Interest per 100 STX = 218.78 %\n",
      "cycle 24   STX per 100 NYCC = 0.084   Total STX/100NYCC = 4.861   Total Interest per 100 STX = 222.622 %\n"
     ]
    }
   ],
   "source": [
    "# Estimate the return on stacking CityCoins, starting in cycle 1 (using coins won in cycle 0).\n",
    "\n",
    "# This calculates the return in terms of STX committed at the beginning.  The fluctuating price of STX \n",
    "# is an additional risk to this investment.\n",
    "\n",
    "# It assumes you stacked all of your NYCC mined in cycle 0.\n",
    "# Assume some constant fraction of all CityCoins will be stacked by everyone.\n",
    "# Assume some known average amount of STX committed by miners to each block\n",
    "\n",
    "\n",
    "N_cycles = 24   # Number of stacking cycles to compute, each lasting ~2 weeks.\n",
    "frac_winnings_stacked = 0.853  # Fraction of total number of coins stacked by others\n",
    "\n",
    "# These values give similar return to recent projections of MattOC:\n",
    "# block_avgcost = 1740  # Average STX committed by all to mine each block\n",
    "# Mined_NYCC_100STX = 4980 # NYCC earned per 100 STX in Pool 1\n",
    "\n",
    "# These are my own values\n",
    "block_avgcost = 2220  # Average STX committed by all to mine each block\n",
    "Mined_NYCC_100STX = 4580 # NYCC earned per 100 STX in Pool 1 (my own actual return)\n",
    "\n",
    "\n",
    "n_blockspercycle = 2100  # Number of blocks in each cycle (ignoring 100-block lag affecting only cycle 0)\n",
    "tot_interest = 0\n",
    "tot_STX_100NYCC = 0\n",
    "N_coins = 0\n",
    "\n",
    "\n",
    "# This loop is set up only to work for the first ~4 years (after which mining rewards decrease further).\n",
    "\n",
    "N_coins_incycle0 = (n_blockspercycle-100) * 250000\n",
    "N_coins = N_coins_incycle0\n",
    "\n",
    "for i in range(1,N_cycles+1):   # Loop over cycles, starting in cycle 1\n",
    "    cycle_num = i\n",
    "    N_coins_incycle = 0\n",
    "    N_STX_incycle = n_blockspercycle * block_avgcost\n",
    "    for j in range(1,n_blockspercycle+1):   # Loop over blocks, just to get N_coins_incycle\n",
    "        block_num = cycle_num*n_blockspercycle + j\n",
    "        if block_num < 10000:   # Bonus blocks\n",
    "            coins_per_block = 250000 \n",
    "        else:                                    # For next ~4 years\n",
    "            coins_per_block = 100000\n",
    "        N_coins_incycle += coins_per_block   # Total coins in current cycle\n",
    "\n",
    "#     print(block_num, N_coins_incycle)\n",
    "\n",
    "    StackReward_STX_100NYCC = 100./(frac_winnings_stacked*N_coins)*N_STX_incycle\n",
    "    tot_STX_100NYCC += StackReward_STX_100NYCC\n",
    "    new_interest = StackReward_STX_100NYCC * Mined_NYCC_100STX / 100.\n",
    "    tot_interest += new_interest\n",
    "\n",
    "    print(\"cycle\",i, \\\n",
    "     \"  STX per 100 NYCC =\",round(StackReward_STX_100NYCC,3), \\\n",
    "     \"  Total STX/100NYCC =\",round(tot_STX_100NYCC,3), \\\n",
    "     \"  Total Interest per 100 STX =\",round(tot_interest,3),\"%\")\n",
    " \n",
    "    N_coins += N_coins_incycle    # Total coins overall\n"
   ]
  },
  {
   "cell_type": "code",
   "execution_count": null,
   "metadata": {},
   "outputs": [],
   "source": []
  }
 ],
 "metadata": {
  "kernelspec": {
   "display_name": "Python 3",
   "language": "python",
   "name": "python3"
  },
  "language_info": {
   "codemirror_mode": {
    "name": "ipython",
    "version": 3
   },
   "file_extension": ".py",
   "mimetype": "text/x-python",
   "name": "python",
   "nbconvert_exporter": "python",
   "pygments_lexer": "ipython3",
   "version": "3.8.3"
  }
 },
 "nbformat": 4,
 "nbformat_minor": 4
}
