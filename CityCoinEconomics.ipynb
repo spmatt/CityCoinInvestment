{
 "cells": [
  {
   "cell_type": "code",
   "execution_count": 1,
   "metadata": {},
   "outputs": [
    {
     "name": "stdout",
     "output_type": "stream",
     "text": [
      "Total investment: 100 STX.\n",
      "Probability of winning at least one block: 1.98 %\n"
     ]
    }
   ],
   "source": [
    "# Calculate the probability of winning at least one block\n",
    "\n",
    "invested_me = 1     # How many STX committed to each block\n",
    "N_blocks = 100      # How many blocks mined\n",
    "invested_others = 5000   # How many STX committed by others\n",
    "\n",
    "P = 1 - (invested_others/(invested_others+invested_me))**N_blocks\n",
    "\n",
    "print(\"Total investment:\", N_blocks*invested_me, \"STX.\")\n",
    "print(\"Probability of winning at least one block:\",round(P*100,2),\"%\")"
   ]
  },
  {
   "cell_type": "markdown",
   "metadata": {},
   "source": [
    "Unless you have a lot to commit, it is expensive to try to win blocks on your own, and random chance can make a very large difference in your actual return.  With enough funds and spreading out over a lot of blocks, you should get a fairly predictable amount of City Coins.  But without that, i.e., with small numbers, it's just gambling.  There are many other ways to gamble that are much simpler than using CityCoins.\n",
    "\n",
    "So, if you don't have a lot to commit, it makes sense to join a mining pool."
   ]
  },
  {
   "cell_type": "code",
   "execution_count": 2,
   "metadata": {},
   "outputs": [
    {
     "name": "stdout",
     "output_type": "stream",
     "text": [
      "Interest is expressed as a fraction of the principle amount used to mine coins.\n",
      "E.g., you get your money back at 1.0, double your money at 2.0, etc.\n",
      "cycle 1  Your stacking cycle 1   Interest = 0.875   Total interest = 0.875\n",
      "cycle 2  Your stacking cycle 2   Interest = 0.438   Total interest = 1.312\n",
      "cycle 3  Your stacking cycle 3   Interest = 0.292   Total interest = 1.604\n",
      "cycle 4  Your stacking cycle 4   Interest = 0.219   Total interest = 1.823\n",
      "cycle 5  Your stacking cycle 5   Interest = 0.18   Total interest = 2.003\n",
      "cycle 6  Your stacking cycle 6   Interest = 0.166   Total interest = 2.17\n",
      "cycle 7  Your stacking cycle 7   Interest = 0.155   Total interest = 2.324\n",
      "cycle 8  Your stacking cycle 8   Interest = 0.144   Total interest = 2.469\n",
      "cycle 9  Your stacking cycle 9   Interest = 0.136   Total interest = 2.604\n",
      "cycle 10  Your stacking cycle 10   Interest = 0.128   Total interest = 2.732\n",
      "cycle 11  Your stacking cycle 11   Interest = 0.121   Total interest = 2.852\n",
      "cycle 12  Your stacking cycle 12   Interest = 0.114   Total interest = 2.967\n",
      "cycle 13  Your stacking cycle 13   Interest = 0.109   Total interest = 3.075\n",
      "cycle 14  Your stacking cycle 14   Interest = 0.103   Total interest = 3.179\n",
      "cycle 15  Your stacking cycle 15   Interest = 0.099   Total interest = 3.278\n",
      "cycle 16  Your stacking cycle 16   Interest = 0.095   Total interest = 3.372\n",
      "cycle 17  Your stacking cycle 17   Interest = 0.091   Total interest = 3.463\n",
      "cycle 18  Your stacking cycle 18   Interest = 0.087   Total interest = 3.55\n",
      "cycle 19  Your stacking cycle 19   Interest = 0.084   Total interest = 3.633\n",
      "cycle 20  Your stacking cycle 20   Interest = 0.081   Total interest = 3.714\n",
      "cycle 21  Your stacking cycle 21   Interest = 0.078   Total interest = 3.792\n",
      "cycle 22  Your stacking cycle 22   Interest = 0.075   Total interest = 3.867\n",
      "cycle 23  Your stacking cycle 23   Interest = 0.073   Total interest = 3.939\n",
      "cycle 24  Your stacking cycle 24   Interest = 0.07   Total interest = 4.01\n"
     ]
    }
   ],
   "source": [
    "# Estimate the return on winning and stacking CityCoins, in just one cycle.\n",
    "\n",
    "# This calculates the return in terms of STX committed at the beginning.  The fluctuating price of STX \n",
    "# is an additional risk to this investment.\n",
    "\n",
    "# There are many assumptions and caveats:\n",
    "#\n",
    "# This assumes perfect odds, where you get a fair share of total coins, proportional to what you pay in.\n",
    "# Obviously if you win more or fewer coins than this, your return adjusts proportionally.\n",
    "# Assume the average amount spent by everyone per block is constant (big, crude assumption!).\n",
    "# It also assumes you immediately stack all of whatever you win into the subsequent cycle.\n",
    "# Assume some constant fraction of all CityCoins will be stacked by everyone.\n",
    "\n",
    "cycle_win = 0   # Cycle you earn your winnings (and thus stack in the next cycle)\n",
    "N_cycles = 24   # Number of stacking cycles to compute, each lasting ~2 weeks.\n",
    "\n",
    "frac_winnings_stacked = 0.8  # Fraction of total number of coins stacked by others\n",
    "\n",
    "\n",
    "n_blockspercycle = 2100  # Number of blocks in each cycle (ignoring 100-block lag affecting only cycle 0)\n",
    "tot_interest = 0\n",
    "N_coins = 0\n",
    "\n",
    "print(\"Interest is expressed as a fraction of the principle amount used to mine coins.\")\n",
    "print(\"E.g., you get your money back at 1.0, double your money at 2.0, etc.\")\n",
    "\n",
    "# This loop is set up only to work for the first ~4 years (after which rewards decrease further).\n",
    "\n",
    "for i in range(1,N_cycles+1):   # Loop over cycles\n",
    "\n",
    "    N_coins_incycle = 0\n",
    "    for j in range(1,n_blockspercycle+1):   # Loop over blocks\n",
    "        if (i-1)*n_blockspercycle + j < 10000:   # Bonus blocks\n",
    "            coins_per_block = 250000 \n",
    "        else:                                    # For next ~4 years\n",
    "            coins_per_block = 100000\n",
    "        N_coins_incycle += coins_per_block   # Total coins in cycle previous to stacking cycle\n",
    "    N_coins += N_coins_incycle    # Total coins overall\n",
    "\n",
    "#     print(N_coins_incycle, N_coins)\n",
    "\n",
    "    N_coins_infirstcycle = n_blockspercycle * 250000    # Assumes rewards during bonus cycles only.\n",
    "    new_interest = 0.7 * N_coins_infirstcycle / (frac_winnings_stacked*N_coins) \n",
    "    if i > cycle_win:\n",
    "        tot_interest += new_interest\n",
    "    print(\"cycle\",i, \" Your stacking cycle\",i-cycle_win, \\\n",
    "          \"  Interest =\",round(new_interest,3), \"  Total interest =\",round(tot_interest,3))"
   ]
  },
  {
   "cell_type": "markdown",
   "metadata": {},
   "source": [
    "The above just calculates the return on stacking coins.  But you also still have the coins themselves, which might be worth nothing, but likely will trade for some value.\n",
    "\n",
    "The implied mining cost of a coin is just the average amount put up by all for each block, divided by the reward.  The reward is 250k coins in the first 10,000 blocks (around 2-3 months), then it goes down to 100k for the next ~4 years.  It then halves every ~4 years for around 20 years or so, before flattening out at 3125 coins per block forever.\n",
    "\n",
    "So, if we ASSUME that the amount people put up for each block is approximately constant (a big assumption), then the implied mining cost increases by a factor of 2.5 after the bonus round, then doubles every 4 years.  Doubling every 4 years is roughly like an annual, compounding growth rate of 20%.\n",
    "\n",
    "For example, Miami Coin is tradeable on Okcoin, and its price so far (after just \\~3 months) has approximately tracked the implied mining cost.  They typically have \\~1000 STX (\\~\\\\$2k) committed per block, and the price fluctuated a bunch in the first couple of weeks and is now \\\\$0.02 (which is the mining cost for 100k coins won per block)."
   ]
  },
  {
   "cell_type": "markdown",
   "metadata": {},
   "source": [
    "NYC Coin in cycle 0 has been doin an average of approximately 5000-6000 STX per block.  This implies a mining cost of \\~\\\\$0.04 now and going up to \\~\\\\$0.10 in a couple of months, when the reward goes to 100k coins per block.\n",
    "\n",
    "For example, if you put in 1000 STX (\\~\\\\$2300), you might expect to earn \\~42000 NYC Coins in the Syvita pool.  So maybe the sale price of those coins could be \\~\\\\$4200 in a few months.  "
   ]
  },
  {
   "cell_type": "code",
   "execution_count": null,
   "metadata": {},
   "outputs": [],
   "source": []
  }
 ],
 "metadata": {
  "kernelspec": {
   "display_name": "Python 3",
   "language": "python",
   "name": "python3"
  },
  "language_info": {
   "codemirror_mode": {
    "name": "ipython",
    "version": 3
   },
   "file_extension": ".py",
   "mimetype": "text/x-python",
   "name": "python",
   "nbconvert_exporter": "python",
   "pygments_lexer": "ipython3",
   "version": "3.8.3"
  }
 },
 "nbformat": 4,
 "nbformat_minor": 4
}
